{
 "cells": [
  {
   "cell_type": "code",
   "execution_count": null,
   "id": "c239fbb3",
   "metadata": {},
   "outputs": [],
   "source": [
    "import sqlite3\n",
    "\n",
    "conn = sqlite3.connect(\"data/mvp.db\")\n",
    "cursor = conn.cursor()\n",
    "\n",
    "cursor.execute('''\n",
    "    CREATE TABLE IF NOT EXISTS intermediate_molecules (\n",
    "        id INTEGER PRIMARY KEY,\n",
    "        iupac_name TEXT NOT NULL,\n",
    "        hydrogen_binding_energy_JperMol TEXT\n",
    "    )\n",
    "''')\n",
    "\n",
    "conn.commit()"
   ]
  },
  {
   "cell_type": "code",
   "execution_count": null,
   "id": "59d7562a",
   "metadata": {},
   "outputs": [],
   "source": [
    "import os\n",
    "\n",
    "access_file = os.path.expanduser(\"~/openai_access\")\n",
    "\n",
    "with open(access_file, 'r') as file:\n",
    "    api_key = file.read().strip()\n",
    "\n",
    "print(f\"Read API key: '{api_key}'\")\n",
    "\n",
    "if not api_key.startswith(\"sk-\") or len(api_key) < 40:\n",
    "    print(\"⚠️ Warning: The API key may be invalid or incomplete.\")\n",
    "else:\n",
    "    print(\"✅ API key appears to be in the correct format.\")\n",
    "\n",
    "os.environ[\"OPENAI_API_KEY\"] = api_key"
   ]
  },
  {
   "cell_type": "code",
   "execution_count": null,
   "id": "ebf658b7",
   "metadata": {},
   "outputs": [],
   "source": []
  }
 ],
 "metadata": {
  "kernelspec": {
   "display_name": "Python 3 (ipykernel)",
   "language": "python",
   "name": "python3"
  },
  "language_info": {
   "codemirror_mode": {
    "name": "ipython",
    "version": 3
   },
   "file_extension": ".py",
   "mimetype": "text/x-python",
   "name": "python",
   "nbconvert_exporter": "python",
   "pygments_lexer": "ipython3",
   "version": "3.12.3"
  }
 },
 "nbformat": 4,
 "nbformat_minor": 5
}
